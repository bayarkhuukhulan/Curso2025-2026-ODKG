{
 "cells": [
  {
   "cell_type": "code",
   "execution_count": 7,
   "id": "76d910de",
   "metadata": {},
   "outputs": [
    {
     "name": "stderr",
     "output_type": "stream",
     "text": [
      "INFO | 2025-10-20 21:16:30,472 | Parallelization is not supported for win32 when running as a library. If you need to speed up your data integration pipeline, please run through the command line.\n",
      "INFO | 2025-10-20 21:16:36,263 | 9 mapping rules retrieved.\n",
      "INFO | 2025-10-20 21:16:36,317 | Mapping partition with 9 groups generated.\n",
      "INFO | 2025-10-20 21:16:36,327 | Maximum number of rules within mapping group: 1.\n",
      "INFO | 2025-10-20 21:16:36,331 | Mappings processed in 5.842 seconds.\n",
      "INFO | 2025-10-20 21:16:44,350 | Number of triples generated in total: 568035.\n",
      "c:\\Users\\SergioBeamonteGonzal\\AppData\\Local\\Programs\\Python\\Python313\\Lib\\site-packages\\rdflib\\plugins\\serializers\\nt.py:41: UserWarning: NTSerializer always uses UTF-8 encoding. Given encoding was: None\n",
      "  warnings.warn(\n"
     ]
    },
    {
     "name": "stdout",
     "output_type": "stream",
     "text": [
      "Archivo resultado.nt generado ✅\n"
     ]
    }
   ],
   "source": [
    "import morph_kgc\n",
    "g = morph_kgc.materialize('config.ini')\n",
    "\n",
    "g.serialize(destination='resultado.nt', format='nt')\n",
    "print(\"Archivo resultado.nt generado ✅\")"
   ]
  },
  {
   "cell_type": "code",
   "execution_count": null,
   "id": "624b6124",
   "metadata": {},
   "outputs": [],
   "source": []
  }
 ],
 "metadata": {
  "kernelspec": {
   "display_name": "Python 3",
   "language": "python",
   "name": "python3"
  },
  "language_info": {
   "codemirror_mode": {
    "name": "ipython",
    "version": 3
   },
   "file_extension": ".py",
   "mimetype": "text/x-python",
   "name": "python",
   "nbconvert_exporter": "python",
   "pygments_lexer": "ipython3",
   "version": "3.13.2"
  }
 },
 "nbformat": 4,
 "nbformat_minor": 5
}
