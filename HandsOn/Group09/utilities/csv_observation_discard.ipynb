{
 "cells": [
  {
   "cell_type": "code",
   "execution_count": 5,
   "id": "b831147b",
   "metadata": {},
   "outputs": [
    {
     "name": "stdout",
     "output_type": "stream",
     "text": [
      "Filas originales: 63115\n",
      "Filas después de eliminar duplicados: 63115\n"
     ]
    }
   ],
   "source": [
    "import pandas as pd\n",
    "\n",
    "df = pd.read_csv(r\"..\\csv\\pedestrian-counting-system-monthly-counts-per-hour-final.csv\")\n",
    "\n",
    "columnas_excluidas = ['Direction_1', 'Direction_2', 'Total_of_Directions', 'PedObserv_ID']  \n",
    "\n",
    "columnas_a_considerar = [col for col in df.columns if col not in columnas_excluidas]\n",
    "\n",
    "df_sin_duplicados = df.drop_duplicates(subset=columnas_a_considerar, keep='first')\n",
    "\n",
    "print(\"Filas originales:\", len(df))\n",
    "print(\"Filas después de eliminar duplicados:\", len(df_sin_duplicados))\n"
   ]
  },
  {
   "cell_type": "code",
   "execution_count": null,
   "id": "1beac082",
   "metadata": {},
   "outputs": [],
   "source": [
    "# df_sin_duplicados.to_csv(\"archivo_sin_duplicados.csv\", index=False)"
   ]
  }
 ],
 "metadata": {
  "kernelspec": {
   "display_name": "Python 3",
   "language": "python",
   "name": "python3"
  },
  "language_info": {
   "codemirror_mode": {
    "name": "ipython",
    "version": 3
   },
   "file_extension": ".py",
   "mimetype": "text/x-python",
   "name": "python",
   "nbconvert_exporter": "python",
   "pygments_lexer": "ipython3",
   "version": "3.13.2"
  }
 },
 "nbformat": 4,
 "nbformat_minor": 5
}
