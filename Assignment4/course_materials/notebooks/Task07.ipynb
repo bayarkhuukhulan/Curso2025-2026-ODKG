{
  "cells": [
    {
      "cell_type": "markdown",
      "metadata": {
        "id": "nOOPLCHF7hLB"
      },
      "source": [
        "**Task 07: Querying RDF(s)**"
      ]
    },
    {
      "cell_type": "code",
      "execution_count": 2,
      "metadata": {
        "id": "Yl9npCt8n6m-"
      },
      "outputs": [],
      "source": [
        "# !pip install rdflib\n",
        "import urllib.request\n",
        "url = 'https://raw.githubusercontent.com/FacultadInformatica-LinkedData/Curso2025-2026/refs/heads/master/Assignment4/course_materials/python/validation.py'\n",
        "urllib.request.urlretrieve(url, 'validation.py')\n",
        "github_storage = \"https://raw.githubusercontent.com/FacultadInformatica-LinkedData/Curso2025-2026/master/Assignment4/course_materials\""
      ]
    },
    {
      "cell_type": "code",
      "execution_count": 3,
      "metadata": {
        "id": "FmnGjffDT92V"
      },
      "outputs": [],
      "source": [
        "from validation import Report"
      ]
    },
    {
      "cell_type": "markdown",
      "metadata": {
        "id": "XY7aPc86Bqoo"
      },
      "source": [
        "First let's read the RDF file"
      ]
    },
    {
      "cell_type": "code",
      "execution_count": 4,
      "metadata": {
        "id": "9ERh415on7kF"
      },
      "outputs": [],
      "source": [
        "from rdflib import Graph, Namespace, Literal\n",
        "from rdflib.namespace import RDF, RDFS\n",
        "# Do not change the name of the variables\n",
        "g = Graph()\n",
        "g.namespace_manager.bind('ns', Namespace(\"http://somewhere#\"), override=False)\n",
        "g.parse(github_storage+\"/rdf/data06.ttl\", format=\"TTL\")\n",
        "report = Report()"
      ]
    },
    {
      "cell_type": "markdown",
      "metadata": {
        "id": "qp1oe2Eddsvo"
      },
      "source": [
        "**TASK 7.1a: For all classes, list each classURI. If the class belogs to another class, then list its superclass.**\n",
        "**Do the exercise in RDFLib returning a list of Tuples: (class, superclass) called \"result\". If a class does not have a super class, then return None as the superclass**"
      ]
    },
    {
      "cell_type": "code",
      "execution_count": 5,
      "metadata": {
        "id": "tRcSWuMHOXBl"
      },
      "outputs": [
        {
          "name": "stdout",
          "output_type": "stream",
          "text": [
            "(rdflib.term.URIRef('http://oeg.fi.upm.es/def/people#Person'), None)\n",
            "(rdflib.term.URIRef('http://oeg.fi.upm.es/def/people#Animal'), None)\n",
            "(rdflib.term.URIRef('http://oeg.fi.upm.es/def/people#Professor'), rdflib.term.URIRef('http://oeg.fi.upm.es/def/people#Person'))\n",
            "(rdflib.term.URIRef('http://oeg.fi.upm.es/def/people#Student'), rdflib.term.URIRef('http://oeg.fi.upm.es/def/people#Person'))\n",
            "(rdflib.term.URIRef('http://oeg.fi.upm.es/def/people#FullProfessor'), rdflib.term.URIRef('http://oeg.fi.upm.es/def/people#Professor'))\n",
            "(rdflib.term.URIRef('http://oeg.fi.upm.es/def/people#AssociateProfessor'), rdflib.term.URIRef('http://oeg.fi.upm.es/def/people#Professor'))\n",
            "(rdflib.term.URIRef('http://oeg.fi.upm.es/def/people#InterimAssociateProfessor'), rdflib.term.URIRef('http://oeg.fi.upm.es/def/people#AssociateProfessor'))\n"
          ]
        }
      ],
      "source": [
        "result = [] #list of tuples\n",
        "for c in g.subjects(RDF.type, RDFS.Class):\n",
        "    superclass = None\n",
        "    for sc in g.objects(c, RDFS.subClassOf):\n",
        "        superclass = sc\n",
        "        break\n",
        "    result.append((c, superclass))\n",
        "\n",
        "# Visualize the results\n",
        "for r in result:\n",
        "  print(r)"
      ]
    },
    {
      "cell_type": "code",
      "execution_count": 6,
      "metadata": {
        "id": "uvEpQQrTlMPH"
      },
      "outputs": [
        {
          "name": "stdout",
          "output_type": "stream",
          "text": [
            "TASK 7.1a OK\n"
          ]
        }
      ],
      "source": [
        "## Validation: Do not remove\n",
        "report.validate_07_1a(result)"
      ]
    },
    {
      "cell_type": "markdown",
      "metadata": {
        "id": "kbY-jqw6klr9"
      },
      "source": [
        "**TASK 7.1b: Repeat the same exercise in SPARQL, returning the variables ?c (class) and ?sc (superclass)**"
      ]
    },
    {
      "cell_type": "code",
      "execution_count": 7,
      "metadata": {
        "id": "NGAG7l9UklMC"
      },
      "outputs": [
        {
          "name": "stdout",
          "output_type": "stream",
          "text": [
            "http://oeg.fi.upm.es/def/people#Person None\n",
            "http://oeg.fi.upm.es/def/people#Animal None\n",
            "http://oeg.fi.upm.es/def/people#Professor http://oeg.fi.upm.es/def/people#Person\n",
            "http://oeg.fi.upm.es/def/people#Student http://oeg.fi.upm.es/def/people#Person\n",
            "http://oeg.fi.upm.es/def/people#FullProfessor http://oeg.fi.upm.es/def/people#Professor\n",
            "http://oeg.fi.upm.es/def/people#AssociateProfessor http://oeg.fi.upm.es/def/people#Professor\n",
            "http://oeg.fi.upm.es/def/people#InterimAssociateProfessor http://oeg.fi.upm.es/def/people#AssociateProfessor\n"
          ]
        }
      ],
      "source": [
        "query =  \"Select ?c ?sc where { ?c a rdfs:Class . OPTIONAL { ?c rdfs:subClassOf ?sc } }\"\n",
        "\n",
        "for r in g.query(query):\n",
        "  print(r.c, r.sc)\n"
      ]
    },
    {
      "cell_type": "code",
      "execution_count": 8,
      "metadata": {
        "id": "9zf4vgVHlKR3"
      },
      "outputs": [
        {
          "name": "stdout",
          "output_type": "stream",
          "text": [
            "TASK 7.1b OK\n"
          ]
        }
      ],
      "source": [
        "## Validation: Do not remove\n",
        "report.validate_07_1b(query,g)"
      ]
    },
    {
      "cell_type": "markdown",
      "metadata": {
        "id": "gM3DASkTQQ5Y"
      },
      "source": [
        "**TASK 7.2a: List all individuals of \"Person\" with RDFLib (remember the subClasses). Return the individual URIs in a list called \"individuals\"**\n"
      ]
    },
    {
      "cell_type": "code",
      "execution_count": null,
      "metadata": {},
      "outputs": [],
      "source": [
        "result = [] #list of tuples\n",
        "for c in g.subjects(RDF.type, RDFS.Class):\n",
        "    superclass = None\n",
        "    for sc in g.objects(c, RDFS.subClassOf):\n",
        "        superclass = sc\n",
        "        break\n",
        "    result.append((c, superclass))"
      ]
    },
    {
      "cell_type": "code",
      "execution_count": 14,
      "metadata": {},
      "outputs": [
        {
          "name": "stdout",
          "output_type": "stream",
          "text": [
            "http://oeg.fi.upm.es/def/people#Asun\n",
            "http://oeg.fi.upm.es/def/people#Oscar\n",
            "http://oeg.fi.upm.es/def/people#Raul\n"
          ]
        }
      ],
      "source": [
        "ns = Namespace(\"http://oeg.fi.upm.es/def/people#\")\n",
        "\n",
        "def is_subclass_of(sub, parent, seen=None):\n",
        "    if seen is None:\n",
        "        seen = set()\n",
        "    if sub == parent:\n",
        "        return True\n",
        "    if sub in seen:\n",
        "        return False\n",
        "    seen.add(sub)\n",
        "    for sup in g.objects(sub, RDFS.subClassOf):\n",
        "        if is_subclass_of(sup, parent, seen):\n",
        "            return True\n",
        "    return False\n",
        "\n",
        "\n",
        "classes = [c for c in g.subjects(RDF.type, RDFS.Class) if is_subclass_of(c, ns.Person)]\n",
        "\n",
        "individuals = []\n",
        "for c in classes:\n",
        "    for s in g.subjects(RDF.type, c):\n",
        "        if s not in individuals:\n",
        "            individuals.append(s)\n",
        "\n",
        "# visualize results\n",
        "for i in individuals:\n",
        "    print(i)\n"
      ]
    },
    {
      "cell_type": "code",
      "execution_count": 15,
      "metadata": {
        "id": "ONrAls5uiX1G"
      },
      "outputs": [
        {
          "name": "stdout",
          "output_type": "stream",
          "text": [
            "TASK 7.2a OK\n"
          ]
        }
      ],
      "source": [
        "# validation. Do not remove\n",
        "report.validate_07_02a(individuals)"
      ]
    },
    {
      "cell_type": "markdown",
      "metadata": {
        "id": "up-952A-za7A"
      },
      "source": [
        "**TASK 7.2b: Repeat the same exercise in SPARQL, returning the individual URIs in a variable ?ind**"
      ]
    },
    {
      "cell_type": "code",
      "execution_count": 17,
      "metadata": {
        "id": "ipYiEVbTzbR0"
      },
      "outputs": [
        {
          "name": "stdout",
          "output_type": "stream",
          "text": [
            "http://oeg.fi.upm.es/def/people#Asun\n",
            "http://oeg.fi.upm.es/def/people#Oscar\n",
            "http://oeg.fi.upm.es/def/people#Raul\n"
          ]
        }
      ],
      "source": [
        "from rdflib.plugins.sparql import prepareQuery\n",
        "\n",
        "query = prepareQuery('''\n",
        "  SELECT DISTINCT ?ind\n",
        "  WHERE {\n",
        "    ?ind a ?type .\n",
        "    ?type rdfs:subClassOf* ns:Person .\n",
        "  }\n",
        "  ''',\n",
        "  initNs = {\"ns\": ns})\n",
        "\n",
        "\n",
        "for r in g.query(query):\n",
        "  print(r.ind)\n",
        "\n",
        "# Visualize the results"
      ]
    },
    {
      "cell_type": "code",
      "execution_count": 18,
      "metadata": {
        "id": "s-Hu2LxRjUQt"
      },
      "outputs": [
        {
          "name": "stdout",
          "output_type": "stream",
          "text": [
            "TASK 7.2b OK\n"
          ]
        }
      ],
      "source": [
        "## Validation: Do not remove\n",
        "report.validate_07_02b(g, query)"
      ]
    },
    {
      "cell_type": "markdown",
      "metadata": {
        "id": "3NyI7M2VNr9R"
      },
      "source": [
        "**TASK 7.3:  List the name and type of those who know Rocky (in SPARQL only). Use name and type as variables in the query**"
      ]
    },
    {
      "cell_type": "code",
      "execution_count": 33,
      "metadata": {
        "id": "I_CNoIKdNpbx"
      },
      "outputs": [
        {
          "name": "stdout",
          "output_type": "stream",
          "text": [
            "Asun http://oeg.fi.upm.es/def/people#FullProfessor\n",
            "Raul http://oeg.fi.upm.es/def/people#InterimAssociateProfessor\n",
            "Fantasma http://oeg.fi.upm.es/def/people#Animal\n"
          ]
        }
      ],
      "source": [
        "query = prepareQuery(\n",
        "  '''SELECT ?name ?type\n",
        "  WHERE {\n",
        "  ?x ns:knows ns:Rocky .\n",
        "  ?x rdfs:label ?name .\n",
        "  ?x a ?type .\n",
        "  }''',\n",
        "  initNs = {\"ns\": ns, \"rdfs\": RDFS})\n",
        "\n",
        "# Visualize the results\n",
        "for r in g.query(query):\n",
        "  print(r.name, r.type)\n"
      ]
    },
    {
      "cell_type": "code",
      "execution_count": 32,
      "metadata": {
        "id": "Zf3JS7tEhS2t"
      },
      "outputs": [
        {
          "name": "stdout",
          "output_type": "stream",
          "text": [
            "TASK 7.3 OK\n"
          ]
        }
      ],
      "source": [
        "## Validation: Do not remove\n",
        "report.validate_07_03(g, query)"
      ]
    },
    {
      "cell_type": "markdown",
      "metadata": {
        "id": "kyjGsyxDPa2C"
      },
      "source": [
        "**Task 7.4: List the name of those entities who have a colleague with a dog, or that have a collegue who has a colleague who has a dog (in SPARQL). Return the results in a variable called name**"
      ]
    },
    {
      "cell_type": "code",
      "execution_count": null,
      "metadata": {},
      "outputs": [
        {
          "name": "stdout",
          "output_type": "stream",
          "text": [
            "(rdflib.term.URIRef('http://oeg.fi.upm.es/def/people#Raul'), rdflib.term.URIRef('http://www.w3.org/2000/01/rdf-schema#label'), rdflib.term.Literal('Raul'))\n",
            "(rdflib.term.URIRef('http://oeg.fi.upm.es/def/people#Oscar'), rdflib.term.URIRef('http://www.w3.org/2000/01/rdf-schema#label'), rdflib.term.Literal('Oscar'))\n",
            "(rdflib.term.URIRef('http://oeg.fi.upm.es/def/people#Raul'), rdflib.term.URIRef('http://oeg.fi.upm.es/def/people#hasColleague'), rdflib.term.URIRef('http://oeg.fi.upm.es/def/people#Asun'))\n",
            "(rdflib.term.URIRef('http://oeg.fi.upm.es/def/people#Asun'), rdflib.term.URIRef('http://oeg.fi.upm.es/def/people#hasHomePage'), rdflib.term.Literal('http://www.oeg-upm.net/'))\n",
            "(rdflib.term.URIRef('http://oeg.fi.upm.es/def/people#Oscar'), rdflib.term.URIRef('http://oeg.fi.upm.es/def/people#hasColleague'), rdflib.term.URIRef('http://oeg.fi.upm.es/def/people#Asun'))\n",
            "(rdflib.term.URIRef('http://oeg.fi.upm.es/def/people#Fantasma'), rdflib.term.URIRef('http://www.w3.org/2000/01/rdf-schema#label'), rdflib.term.Literal('Fantasma'))\n",
            "(rdflib.term.URIRef('http://oeg.fi.upm.es/def/people#Person'), rdflib.term.URIRef('http://www.w3.org/1999/02/22-rdf-syntax-ns#type'), rdflib.term.URIRef('http://www.w3.org/2000/01/rdf-schema#Class'))\n",
            "(rdflib.term.URIRef('http://oeg.fi.upm.es/def/people#Oscar'), rdflib.term.URIRef('http://oeg.fi.upm.es/def/people#hasName'), rdflib.term.Literal('Oscar Corcho García'))\n",
            "(rdflib.term.URIRef('http://oeg.fi.upm.es/def/people#Rocky'), rdflib.term.URIRef('http://www.w3.org/2000/01/rdf-schema#label'), rdflib.term.Literal('Rocky'))\n",
            "(rdflib.term.URIRef('http://oeg.fi.upm.es/def/people#Asun'), rdflib.term.URIRef('http://www.w3.org/1999/02/22-rdf-syntax-ns#type'), rdflib.term.URIRef('http://oeg.fi.upm.es/def/people#FullProfessor'))\n",
            "(rdflib.term.URIRef('http://oeg.fi.upm.es/def/people#Raul'), rdflib.term.URIRef('http://oeg.fi.upm.es/def/people#knows'), rdflib.term.URIRef('http://oeg.fi.upm.es/def/people#Rocky'))\n",
            "(rdflib.term.URIRef('http://oeg.fi.upm.es/def/people#Oscar'), rdflib.term.URIRef('http://oeg.fi.upm.es/def/people#knows'), rdflib.term.URIRef('http://oeg.fi.upm.es/def/people#Fantasma'))\n",
            "(rdflib.term.URIRef('http://oeg.fi.upm.es/def/people#AssociateProfessor'), rdflib.term.URIRef('http://www.w3.org/2000/01/rdf-schema#subClassOf'), rdflib.term.URIRef('http://oeg.fi.upm.es/def/people#Professor'))\n",
            "(rdflib.term.URIRef('http://oeg.fi.upm.es/def/people#Asun'), rdflib.term.URIRef('http://oeg.fi.upm.es/def/people#knows'), rdflib.term.URIRef('http://oeg.fi.upm.es/def/people#Rocky'))\n",
            "(rdflib.term.URIRef('http://oeg.fi.upm.es/def/people#Fantasma'), rdflib.term.URIRef('http://www.w3.org/1999/02/22-rdf-syntax-ns#type'), rdflib.term.URIRef('http://oeg.fi.upm.es/def/people#Animal'))\n",
            "(rdflib.term.URIRef('http://oeg.fi.upm.es/def/people#Rocky'), rdflib.term.URIRef('http://www.w3.org/1999/02/22-rdf-syntax-ns#type'), rdflib.term.URIRef('http://oeg.fi.upm.es/def/people#Animal'))\n",
            "(rdflib.term.URIRef('http://oeg.fi.upm.es/def/people#Student'), rdflib.term.URIRef('http://www.w3.org/1999/02/22-rdf-syntax-ns#type'), rdflib.term.URIRef('http://www.w3.org/2000/01/rdf-schema#Class'))\n",
            "(rdflib.term.URIRef('http://oeg.fi.upm.es/def/people#InterimAssociateProfessor'), rdflib.term.URIRef('http://www.w3.org/1999/02/22-rdf-syntax-ns#type'), rdflib.term.URIRef('http://www.w3.org/2000/01/rdf-schema#Class'))\n",
            "(rdflib.term.URIRef('http://oeg.fi.upm.es/def/people#InterimAssociateProfessor'), rdflib.term.URIRef('http://www.w3.org/2000/01/rdf-schema#subClassOf'), rdflib.term.URIRef('http://oeg.fi.upm.es/def/people#AssociateProfessor'))\n",
            "(rdflib.term.URIRef('http://oeg.fi.upm.es/def/people#FullProfessor'), rdflib.term.URIRef('http://www.w3.org/2000/01/rdf-schema#subClassOf'), rdflib.term.URIRef('http://oeg.fi.upm.es/def/people#Professor'))\n",
            "(rdflib.term.URIRef('http://oeg.fi.upm.es/def/people#AssociateProfessor'), rdflib.term.URIRef('http://www.w3.org/1999/02/22-rdf-syntax-ns#type'), rdflib.term.URIRef('http://www.w3.org/2000/01/rdf-schema#Class'))\n",
            "(rdflib.term.URIRef('http://oeg.fi.upm.es/def/people#Oscar'), rdflib.term.URIRef('http://oeg.fi.upm.es/def/people#ownsPet'), rdflib.term.URIRef('http://oeg.fi.upm.es/def/people#Fantasma'))\n",
            "(rdflib.term.URIRef('http://oeg.fi.upm.es/def/people#Raul'), rdflib.term.URIRef('http://oeg.fi.upm.es/def/people#ownsPet'), rdflib.term.URIRef('http://oeg.fi.upm.es/def/people#Rocky'))\n",
            "(rdflib.term.URIRef('http://oeg.fi.upm.es/def/people#FullProfessor'), rdflib.term.URIRef('http://www.w3.org/1999/02/22-rdf-syntax-ns#type'), rdflib.term.URIRef('http://www.w3.org/2000/01/rdf-schema#Class'))\n",
            "(rdflib.term.URIRef('http://oeg.fi.upm.es/def/people#Raul'), rdflib.term.URIRef('http://www.w3.org/1999/02/22-rdf-syntax-ns#type'), rdflib.term.URIRef('http://oeg.fi.upm.es/def/people#InterimAssociateProfessor'))\n",
            "(rdflib.term.URIRef('http://oeg.fi.upm.es/def/people#Student'), rdflib.term.URIRef('http://www.w3.org/2000/01/rdf-schema#subClassOf'), rdflib.term.URIRef('http://oeg.fi.upm.es/def/people#Person'))\n",
            "(rdflib.term.URIRef('http://oeg.fi.upm.es/def/people#Oscar'), rdflib.term.URIRef('http://www.w3.org/1999/02/22-rdf-syntax-ns#type'), rdflib.term.URIRef('http://oeg.fi.upm.es/def/people#AssociateProfessor'))\n",
            "(rdflib.term.URIRef('http://oeg.fi.upm.es/def/people#Professor'), rdflib.term.URIRef('http://www.w3.org/1999/02/22-rdf-syntax-ns#type'), rdflib.term.URIRef('http://www.w3.org/2000/01/rdf-schema#Class'))\n",
            "(rdflib.term.URIRef('http://oeg.fi.upm.es/def/people#Fantasma'), rdflib.term.URIRef('http://oeg.fi.upm.es/def/people#knows'), rdflib.term.URIRef('http://oeg.fi.upm.es/def/people#Rocky'))\n",
            "(rdflib.term.URIRef('http://oeg.fi.upm.es/def/people#Asun'), rdflib.term.URIRef('http://www.w3.org/2000/01/rdf-schema#label'), rdflib.term.Literal('Asun'))\n",
            "(rdflib.term.URIRef('http://oeg.fi.upm.es/def/people#Rocky'), rdflib.term.URIRef('http://oeg.fi.upm.es/def/people#knows'), rdflib.term.URIRef('http://oeg.fi.upm.es/def/people#Fantasma'))\n",
            "(rdflib.term.URIRef('http://oeg.fi.upm.es/def/people#Professor'), rdflib.term.URIRef('http://www.w3.org/2000/01/rdf-schema#subClassOf'), rdflib.term.URIRef('http://oeg.fi.upm.es/def/people#Person'))\n",
            "(rdflib.term.URIRef('http://oeg.fi.upm.es/def/people#Animal'), rdflib.term.URIRef('http://www.w3.org/1999/02/22-rdf-syntax-ns#type'), rdflib.term.URIRef('http://www.w3.org/2000/01/rdf-schema#Class'))\n",
            "(rdflib.term.URIRef('http://oeg.fi.upm.es/def/people#Asun'), rdflib.term.URIRef('http://oeg.fi.upm.es/def/people#hasColleague'), rdflib.term.URIRef('http://oeg.fi.upm.es/def/people#Raul'))\n"
          ]
        }
      ],
      "source": [
        "for s, p, o in g:\n",
        "    print((s, p, o))"
      ]
    },
    {
      "cell_type": "code",
      "execution_count": 53,
      "metadata": {},
      "outputs": [
        {
          "name": "stdout",
          "output_type": "stream",
          "text": [
            "Asun\n",
            "Oscar\n",
            "Raul\n"
          ]
        }
      ],
      "source": [
        "query = \"\"\"\n",
        "PREFIX ns: <http://oeg.fi.upm.es/def/people#>\n",
        "PREFIX rdfs: <http://www.w3.org/2000/01/rdf-schema#>\n",
        "\n",
        "SELECT DISTINCT ?name\n",
        "WHERE {\n",
        "  {\n",
        "    ?x ns:hasColleague ?petowner .\n",
        "    ?petowner ns:ownsPet ?pet .\n",
        "    ?pet a ns:Animal .\n",
        "    ?x rdfs:label ?name .\n",
        "  }\n",
        "  UNION\n",
        "  {\n",
        "    ?x ns:hasColleague ?y .\n",
        "    ?y ns:hasColleague ?petowner .\n",
        "    ?petowner ns:ownsPet ?pet .\n",
        "    ?pet a ns:Animal .\n",
        "    ?x rdfs:label ?name .\n",
        "  }\n",
        "}\n",
        "\"\"\"\n",
        "\n",
        "# Visualize the results\n",
        "for r in g.query(query):\n",
        "  print(r.name)"
      ]
    },
    {
      "cell_type": "code",
      "execution_count": 54,
      "metadata": {
        "id": "zcTZE7ngj2fc"
      },
      "outputs": [
        {
          "name": "stdout",
          "output_type": "stream",
          "text": [
            "TASK 7.4 OK\n"
          ]
        }
      ],
      "source": [
        "## Validation: Do not remove\n",
        "report.validate_07_04(g,query)\n",
        "report.save_report(\"_Task_07\")"
      ]
    }
  ],
  "metadata": {
    "colab": {
      "provenance": []
    },
    "kernelspec": {
      "display_name": ".venv",
      "language": "python",
      "name": "python3"
    },
    "language_info": {
      "codemirror_mode": {
        "name": "ipython",
        "version": 3
      },
      "file_extension": ".py",
      "mimetype": "text/x-python",
      "name": "python",
      "nbconvert_exporter": "python",
      "pygments_lexer": "ipython3",
      "version": "3.13.7"
    }
  },
  "nbformat": 4,
  "nbformat_minor": 0
}
