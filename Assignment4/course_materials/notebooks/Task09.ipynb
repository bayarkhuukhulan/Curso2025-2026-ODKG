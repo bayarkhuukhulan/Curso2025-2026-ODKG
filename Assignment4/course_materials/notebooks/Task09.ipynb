{
  "cells": [
    {
      "cell_type": "markdown",
      "metadata": {
        "id": "wIhJ69byU2Ad"
      },
      "source": [
        "**Task 09: Data linking**"
      ]
    },
    {
      "cell_type": "code",
      "execution_count": 1,
      "metadata": {
        "id": "0sQG2Y915Isp",
        "outputId": "0f51771f-4b79-476f-b220-273ebdf1f6f3"
      },
      "outputs": [],
      "source": [
        "# !pip install rdflib\n",
        "github_storage = \"https://raw.githubusercontent.com/FacultadInformatica-LinkedData/Curso2021-2022/master/Assignment4/course_materials/\""
      ]
    },
    {
      "cell_type": "code",
      "execution_count": 2,
      "metadata": {
        "id": "Jb4QeLue5NLr",
        "outputId": "9ba1206a-dd26-4dc3-8836-6a61269cbe7c"
      },
      "outputs": [
        {
          "data": {
            "text/plain": [
              "<Graph identifier=Ncbf256d7d51048608f08fe2a0b229ed7 (<class 'rdflib.graph.Graph'>)>"
            ]
          },
          "execution_count": 2,
          "metadata": {},
          "output_type": "execute_result"
        }
      ],
      "source": [
        "from rdflib import Graph, Namespace, Literal, URIRef\n",
        "g1 = Graph()\n",
        "g2 = Graph()\n",
        "g3 = Graph()\n",
        "g1.parse(github_storage+\"rdf/data03.rdf\", format=\"xml\")\n",
        "g2.parse(github_storage+\"rdf/data04.rdf\", format=\"xml\")"
      ]
    },
    {
      "cell_type": "markdown",
      "metadata": {
        "id": "5wfBZiQSU827"
      },
      "source": [
        "Busca individuos en los dos grafos y enlázalos mediante la propiedad OWL:sameAs, inserta estas coincidencias en g3. Consideramos dos individuos iguales si tienen el mismo apodo y nombre de familia. Ten en cuenta que las URI no tienen por qué ser iguales para un mismo individuo en los dos grafos."
      ]
    },
    {
      "cell_type": "markdown",
      "metadata": {},
      "source": [
        "== Suche nach Individuen in beiden Graphen und verknüpfe sie mithilfe der OWL-Eigenschaft „sameAs”. Füge diese Übereinstimmungen in g3 ein. Wir betrachten zwei Individuen als gleich, wenn sie denselben Spitznamen und denselben Familiennamen haben. Beachte, dass die URIs für dasselbe Individuum in beiden Graphen nicht unbedingt identisch sein müssen."
      ]
    },
    {
      "cell_type": "code",
      "execution_count": 21,
      "metadata": {},
      "outputs": [
        {
          "name": "stdout",
          "output_type": "stream",
          "text": [
            "http://data.three.org#JohnDoe http://www.w3.org/2002/07/owl#sameAs http://data.four.org#0005\n",
            "http://data.three.org#JohnSmith http://www.w3.org/2002/07/owl#sameAs http://data.four.org#0002\n",
            "http://data.three.org#SaraJones http://www.w3.org/2002/07/owl#sameAs http://data.four.org#0001\n"
          ]
        }
      ],
      "source": [
        "VCARD = Namespace(\"http://www.w3.org/2001/vcard-rdf/3.0#\")\n",
        "from rdflib.namespace import OWL\n",
        "\n",
        "def extract_people(graph):\n",
        "    people = []\n",
        "    for person in set(graph.subjects(VCARD.FN, None)):\n",
        "        fn = graph.value(person, VCARD.FN)\n",
        "        fam = graph.value(person, VCARD.Family)\n",
        "        if fn is not None and fam is not None:\n",
        "            people.append((person, fn, fam))\n",
        "    return people\n",
        "\n",
        "for uri1, fn1, fam1 in extract_people(g1):\n",
        "    for uri2, fn2, fam2 in extract_people(g2):\n",
        "        if (fn1 == fn2 and fam1 == fam2):\n",
        "            g3.add((URIRef(uri1), OWL.sameAs, URIRef(uri2)))\n",
        "\n",
        "for s, p, o in g3:\n",
        "    print(s, p, o)"
      ]
    }
  ],
  "metadata": {
    "colab": {
      "provenance": []
    },
    "kernelspec": {
      "display_name": ".venv",
      "language": "python",
      "name": "python3"
    },
    "language_info": {
      "codemirror_mode": {
        "name": "ipython",
        "version": 3
      },
      "file_extension": ".py",
      "mimetype": "text/x-python",
      "name": "python",
      "nbconvert_exporter": "python",
      "pygments_lexer": "ipython3",
      "version": "3.13.7"
    }
  },
  "nbformat": 4,
  "nbformat_minor": 0
}
