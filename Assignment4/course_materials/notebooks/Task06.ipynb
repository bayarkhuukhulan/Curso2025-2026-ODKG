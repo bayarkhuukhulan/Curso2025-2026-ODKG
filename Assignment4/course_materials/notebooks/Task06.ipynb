{
  "cells": [
    {
      "cell_type": "markdown",
      "metadata": {
        "id": "nOOPLCHF7hLB"
      },
      "source": [
        "**Task 06: Modifying RDF(s)**"
      ]
    },
    {
      "cell_type": "code",
      "execution_count": 1,
      "metadata": {
        "id": "Yl9npCt8n6m-"
      },
      "outputs": [],
      "source": [
        "# !pip install rdflib\n",
        "import urllib.request\n",
        "url = 'https://raw.githubusercontent.com/FacultadInformatica-LinkedData/Curso2025-2026/refs/heads/master/Assignment4/course_materials/python/validation.py'\n",
        "urllib.request.urlretrieve(url, 'validation.py')\n",
        "github_storage = \"https://raw.githubusercontent.com/FacultadInformatica-LinkedData/Curso2025-2026/master/Assignment4/course_materials\" "
      ]
    },
    {
      "cell_type": "markdown",
      "metadata": {
        "id": "XY7aPc86Bqoo"
      },
      "source": [
        "Import RDFLib main methods"
      ]
    },
    {
      "cell_type": "code",
      "execution_count": 2,
      "metadata": {
        "id": "9ERh415on7kF"
      },
      "outputs": [],
      "source": [
        "from rdflib import Graph, Namespace, Literal, XSD\n",
        "from rdflib.namespace import RDF, RDFS\n",
        "from validation import Report\n",
        "g = Graph()\n",
        "g.namespace_manager.bind('ns', Namespace(\"http://somewhere#\"), override=False)\n",
        "r = Report()"
      ]
    },
    {
      "cell_type": "markdown",
      "metadata": {
        "id": "gM3DASkTQQ5Y"
      },
      "source": [
        "Create a new class named Researcher"
      ]
    },
    {
      "cell_type": "code",
      "execution_count": 3,
      "metadata": {
        "id": "6vtudax8Xb7b"
      },
      "outputs": [
        {
          "name": "stdout",
          "output_type": "stream",
          "text": [
            "http://mydomain.org#Researcher http://www.w3.org/1999/02/22-rdf-syntax-ns#type http://www.w3.org/2000/01/rdf-schema#Class\n"
          ]
        }
      ],
      "source": [
        "ns = Namespace(\"http://mydomain.org#\")\n",
        "g.add((ns.Researcher, RDF.type, RDFS.Class))\n",
        "for s, p, o in g:\n",
        "  print(s,p,o)"
      ]
    },
    {
      "cell_type": "markdown",
      "metadata": {
        "id": "ZX8w9jnV5Xhp"
      },
      "source": [
        "**Task 6.0: Create new prefixes for \"ontology\" and \"person\" as shown in slide 14 of the Slidedeck 01a.RDF(s)-SPARQL shown in class.**"
      ]
    },
    {
      "cell_type": "code",
      "execution_count": 4,
      "metadata": {
        "id": "b1ZQgYgB5vi7"
      },
      "outputs": [],
      "source": [
        "# this task is validated in the next step\n",
        "from rdflib import Graph, Namespace, Literal\n",
        "g = Graph()\n",
        "\n",
        "\n",
        "PERSON = Namespace(\"http://oeg.fi.upm.es/resource/person/\")\n",
        "ONTOLOGY = Namespace(\"http://oeg.fi.upm.es/def/people#\")\n",
        "# RDF = Namespace(\"http://www.w3.org/1999/02/22-rdf-syntax-ns#\")\n",
        "# RDFS = Namespace(\"http://www.w3.org/2000/01/rdf-schema#\")\n",
        "# XSD = Namespace(\"http://www.w3.org/2001/XMLSchema#\")\n",
        "\n",
        "g.bind(\"person\", PERSON)\n",
        "g.bind(\"ontology\", ONTOLOGY)\n",
        "# g.bind(\"organization\", ORGANIZATION)"
      ]
    },
    {
      "cell_type": "markdown",
      "metadata": {
        "id": "qp1oe2Eddsvo"
      },
      "source": [
        "**TASK 6.1: Reproduce the taxonomy of classes shown in slide 34 in class (all the classes under \"Vocabulario\", Slidedeck: 01a.RDF(s)-SPARQL). Add labels for each of them as they are in the diagram (exactly) with no language tags. Remember adding the correct datatype (xsd:String) when appropriate**\n"
      ]
    },
    {
      "cell_type": "code",
      "execution_count": null,
      "metadata": {
        "id": "pnsrsgRUWF3A"
      },
      "outputs": [
        {
          "name": "stdout",
          "output_type": "stream",
          "text": [
            "http://oeg.fi.upm.es/def/people#FullProfessor http://www.w3.org/1999/02/22-rdf-syntax-ns#type http://www.w3.org/2000/01/rdf-schema#Class\n",
            "http://oeg.fi.upm.es/def/people#FullProfessor http://www.w3.org/2000/01/rdf-schema#label FullProfessor\n",
            "http://oeg.fi.upm.es/def/people#Professor http://www.w3.org/1999/02/22-rdf-syntax-ns#type http://www.w3.org/2000/01/rdf-schema#Class\n",
            "http://oeg.fi.upm.es/def/people#InterimAssociateProfessor http://www.w3.org/1999/02/22-rdf-syntax-ns#type http://www.w3.org/2000/01/rdf-schema#Class\n",
            "http://oeg.fi.upm.es/def/people#InterimAssociateProfessor http://www.w3.org/2000/01/rdf-schema#subClassOf http://oeg.fi.upm.es/def/people#AssociateProfessor\n",
            "http://oeg.fi.upm.es/def/people#AssociateProfessor http://www.w3.org/2000/01/rdf-schema#label AssociateProfessor\n",
            "http://oeg.fi.upm.es/def/people#Professor http://www.w3.org/2000/01/rdf-schema#label Professor\n",
            "http://oeg.fi.upm.es/def/people#AssociateProfessor http://www.w3.org/1999/02/22-rdf-syntax-ns#type http://www.w3.org/2000/01/rdf-schema#Class\n",
            "http://oeg.fi.upm.es/def/people#FullProfessor http://www.w3.org/2000/01/rdf-schema#subClassOf http://oeg.fi.upm.es/def/people#Professor\n",
            "http://oeg.fi.upm.es/def/people#Professor http://www.w3.org/2000/01/rdf-schema#subClassOf http://oeg.fi.upm.es/def/people#Person\n",
            "http://oeg.fi.upm.es/def/people#Person http://www.w3.org/2000/01/rdf-schema#label Person\n",
            "http://oeg.fi.upm.es/def/people#AssociateProfessor http://www.w3.org/2000/01/rdf-schema#subClassOf http://oeg.fi.upm.es/def/people#Professor\n",
            "http://oeg.fi.upm.es/def/people#InterimAssociateProfessor http://www.w3.org/2000/01/rdf-schema#label InterimAssociateProfessor\n",
            "http://oeg.fi.upm.es/def/people#person http://www.w3.org/1999/02/22-rdf-syntax-ns#type http://www.w3.org/2000/01/rdf-schema#Class\n"
          ]
        }
      ],
      "source": [
        "\n",
        "g.add((ONTOLOGY.person, RDF.type, RDFS.Class))\n",
        "g.add((ONTOLOGY.Professor, RDF.type, RDFS.Class))\n",
        "g.add((ONTOLOGY.AssociateProfessor, RDF.type, RDFS.Class))\n",
        "g.add((ONTOLOGY.InterimAssociateProfessor, RDF.type, RDFS.Class))\n",
        "g.add((ONTOLOGY.FullProfessor, RDF.type, RDFS.Class))\n",
        "\n",
        "g.add((ONTOLOGY.Professor, RDFS.subClassOf, ONTOLOGY.Person))\n",
        "g.add((ONTOLOGY.AssociateProfessor, RDFS.subClassOf, ONTOLOGY.Professor))\n",
        "g.add((ONTOLOGY.InterimAssociateProfessor, RDFS.subClassOf, ONTOLOGY.AssociateProfessor))\n",
        "g.add((ONTOLOGY.FullProfessor, RDFS.subClassOf, ONTOLOGY.Professor))\n",
        "\n",
        "g.add((ONTOLOGY.Person, RDFS.label, Literal(\"Person\", datatype=XSD.string)))\n",
        "g.add((ONTOLOGY.Professor, RDFS.label, Literal(\"Professor\", datatype=XSD.string)))\n",
        "g.add((ONTOLOGY.AssociateProfessor, RDFS.label, Literal(\"AssociateProfessor\", datatype=XSD.string)))\n",
        "g.add((ONTOLOGY.InterimAssociateProfessor, RDFS.label, Literal(\"InterimAssociateProfessor\", datatype=XSD.string)))\n",
        "g.add((ONTOLOGY.FullProfessor, RDFS.label, Literal(\"FullProfessor\", datatype=XSD.string)))\n",
        "\n",
        "\n",
        "# Visualize the results\n",
        "for s, p, o in g:\n",
        "  print(s,p,o)"
      ]
    },
    {
      "cell_type": "code",
      "execution_count": 6,
      "metadata": {},
      "outputs": [
        {
          "name": "stdout",
          "output_type": "stream",
          "text": [
            "The namespace is correct for http://oeg.fi.upm.es/def/people#Professor\n",
            "The namespace is correct for http://oeg.fi.upm.es/def/people#Person\n",
            "The namespace is correct for http://oeg.fi.upm.es/def/people#AssociateProfessor\n",
            "The namespace is correct for http://oeg.fi.upm.es/def/people#InterimAssociateProfessor\n",
            "The namespace is correct for http://oeg.fi.upm.es/def/people#FullProfessor\n",
            "Hierarchy OK\n",
            "TASK 6.1 OK\n"
          ]
        }
      ],
      "source": [
        "r.validate_task_06_01(g)"
      ]
    },
    {
      "cell_type": "markdown",
      "metadata": {
        "id": "MXBqtBkJd22I"
      },
      "source": [
        "**TASK 6.2: Add the 3 properties shown in slide 36. Add labels for each of them (exactly as they are in the slide, with no language tags), and their corresponding domains and ranges using RDFS. Remember adding the correct datatype (xsd:String) when appropriate. If a property has no range, make it a literal (string)**"
      ]
    },
    {
      "cell_type": "code",
      "execution_count": 7,
      "metadata": {
        "id": "53hZNtXsXCNq"
      },
      "outputs": [
        {
          "name": "stdout",
          "output_type": "stream",
          "text": [
            "http://oeg.fi.upm.es/def/people#hasHomePage http://www.w3.org/2000/01/rdf-schema#range http://www.w3.org/2000/01/rdf-schema#Literal\n",
            "http://oeg.fi.upm.es/def/people#hasColleague http://www.w3.org/1999/02/22-rdf-syntax-ns#type http://www.w3.org/1999/02/22-rdf-syntax-ns#Property\n",
            "http://oeg.fi.upm.es/def/people#hasName http://www.w3.org/1999/02/22-rdf-syntax-ns#type http://www.w3.org/1999/02/22-rdf-syntax-ns#Property\n",
            "http://oeg.fi.upm.es/def/people#hasHomePage http://www.w3.org/1999/02/22-rdf-syntax-ns#type http://www.w3.org/1999/02/22-rdf-syntax-ns#Property\n",
            "http://oeg.fi.upm.es/def/people#Professor http://www.w3.org/1999/02/22-rdf-syntax-ns#type http://www.w3.org/2000/01/rdf-schema#Class\n",
            "http://oeg.fi.upm.es/def/people#AssociateProfessor http://www.w3.org/2000/01/rdf-schema#label AssociateProfessor\n",
            "http://oeg.fi.upm.es/def/people#InterimAssociateProfessor http://www.w3.org/1999/02/22-rdf-syntax-ns#type http://www.w3.org/2000/01/rdf-schema#Class\n",
            "http://oeg.fi.upm.es/def/people#InterimAssociateProfessor http://www.w3.org/2000/01/rdf-schema#subClassOf http://oeg.fi.upm.es/def/people#AssociateProfessor\n",
            "http://oeg.fi.upm.es/def/people#AssociateProfessor http://www.w3.org/1999/02/22-rdf-syntax-ns#type http://www.w3.org/2000/01/rdf-schema#Class\n",
            "http://oeg.fi.upm.es/def/people#FullProfessor http://www.w3.org/2000/01/rdf-schema#subClassOf http://oeg.fi.upm.es/def/people#Professor\n",
            "http://oeg.fi.upm.es/def/people#hasColleague http://www.w3.org/2000/01/rdf-schema#label hasColleague\n",
            "http://oeg.fi.upm.es/def/people#hasName http://www.w3.org/2000/01/rdf-schema#range http://www.w3.org/2000/01/rdf-schema#Literal\n",
            "http://oeg.fi.upm.es/def/people#hasName http://www.w3.org/2000/01/rdf-schema#label hasName\n",
            "http://oeg.fi.upm.es/def/people#Person http://www.w3.org/2000/01/rdf-schema#label Person\n",
            "http://oeg.fi.upm.es/def/people#AssociateProfessor http://www.w3.org/2000/01/rdf-schema#subClassOf http://oeg.fi.upm.es/def/people#Professor\n",
            "http://oeg.fi.upm.es/def/people#hasHomePage http://www.w3.org/2000/01/rdf-schema#label hasHomePage\n",
            "http://oeg.fi.upm.es/def/people#FullProfessor http://www.w3.org/1999/02/22-rdf-syntax-ns#type http://www.w3.org/2000/01/rdf-schema#Class\n",
            "http://oeg.fi.upm.es/def/people#FullProfessor http://www.w3.org/2000/01/rdf-schema#label FullProfessor\n",
            "http://oeg.fi.upm.es/def/people#hasColleague http://www.w3.org/2000/01/rdf-schema#domain http://oeg.fi.upm.es/def/people#Person\n",
            "http://oeg.fi.upm.es/def/people#hasColleague http://www.w3.org/2000/01/rdf-schema#range http://oeg.fi.upm.es/def/people#Person\n",
            "http://oeg.fi.upm.es/def/people#Professor http://www.w3.org/2000/01/rdf-schema#label Professor\n",
            "http://oeg.fi.upm.es/def/people#hasName http://www.w3.org/2000/01/rdf-schema#domain http://oeg.fi.upm.es/def/people#Person\n",
            "http://oeg.fi.upm.es/def/people#Professor http://www.w3.org/2000/01/rdf-schema#subClassOf http://oeg.fi.upm.es/def/people#Person\n",
            "http://oeg.fi.upm.es/def/people#InterimAssociateProfessor http://www.w3.org/2000/01/rdf-schema#label InterimAssociateProfessor\n",
            "http://oeg.fi.upm.es/def/people#person http://www.w3.org/1999/02/22-rdf-syntax-ns#type http://www.w3.org/2000/01/rdf-schema#Class\n",
            "http://oeg.fi.upm.es/def/people#hasHomePage http://www.w3.org/2000/01/rdf-schema#domain http://oeg.fi.upm.es/def/people#FullProfessor\n"
          ]
        }
      ],
      "source": [
        "g.add((ONTOLOGY.hasName, RDF.type, RDF.Property))\n",
        "g.add((ONTOLOGY.hasColleague, RDF.type, RDF.Property))\n",
        "g.add((ONTOLOGY.hasHomePage, RDF.type, RDF.Property))\n",
        "\n",
        "g.add((ONTOLOGY.hasName, RDFS.label, Literal(\"hasName\", datatype=XSD.string)))\n",
        "g.add((ONTOLOGY.hasColleague, RDFS.label, Literal(\"hasColleague\", datatype=XSD.string)))\n",
        "g.add((ONTOLOGY.hasHomePage, RDFS.label, Literal(\"hasHomePage\", datatype=XSD.string)))\n",
        "\n",
        "g.add((ONTOLOGY.hasName, RDFS.range, RDFS.Literal))\n",
        "g.add((ONTOLOGY.hasName, RDFS.domain, ONTOLOGY.Person))\n",
        "\n",
        "g.add((ONTOLOGY.hasColleague, RDFS.domain, ONTOLOGY.Person))\n",
        "g.add((ONTOLOGY.hasColleague, RDFS.range, ONTOLOGY.Person))\n",
        "\n",
        "g.add((ONTOLOGY.hasHomePage, RDFS.range, RDFS.Literal))\n",
        "g.add((ONTOLOGY.hasHomePage, RDFS.domain, ONTOLOGY.FullProfessor))\n",
        "\n",
        "# Visualize the results\n",
        "for s, p, o in g:\n",
        "  print(s,p,o)"
      ]
    },
    {
      "cell_type": "code",
      "execution_count": 8,
      "metadata": {
        "id": "pd2mE-vGaxbu"
      },
      "outputs": [
        {
          "name": "stdout",
          "output_type": "stream",
          "text": [
            "TASK 6.2 OK\n"
          ]
        }
      ],
      "source": [
        "# Validation. Do not remove\n",
        "r.validate_task_06_02(g)"
      ]
    },
    {
      "cell_type": "markdown",
      "metadata": {
        "id": "OGct6k7Ld9O0"
      },
      "source": [
        "**TASK 6.3: Create the individuals shown in slide 36 under \"Datos\". Link them with the same relationships shown in the diagram.\"**"
      ]
    },
    {
      "cell_type": "code",
      "execution_count": 9,
      "metadata": {
        "id": "jbMMSHSZcFcf"
      },
      "outputs": [
        {
          "name": "stdout",
          "output_type": "stream",
          "text": [
            "http://oeg.fi.upm.es/def/people#hasColleague http://www.w3.org/1999/02/22-rdf-syntax-ns#type http://www.w3.org/1999/02/22-rdf-syntax-ns#Property\n",
            "http://oeg.fi.upm.es/def/people#hasName http://www.w3.org/1999/02/22-rdf-syntax-ns#type http://www.w3.org/1999/02/22-rdf-syntax-ns#Property\n",
            "http://oeg.fi.upm.es/def/people#hasHomePage http://www.w3.org/1999/02/22-rdf-syntax-ns#type http://www.w3.org/1999/02/22-rdf-syntax-ns#Property\n",
            "http://oeg.fi.upm.es/def/people#Professor http://www.w3.org/1999/02/22-rdf-syntax-ns#type http://www.w3.org/2000/01/rdf-schema#Class\n",
            "http://oeg.fi.upm.es/def/people#AssociateProfessor http://www.w3.org/2000/01/rdf-schema#label AssociateProfessor\n",
            "http://oeg.fi.upm.es/resource/person/Raul http://www.w3.org/1999/02/22-rdf-syntax-ns#type http://oeg.fi.upm.es/def/people#InterimAssociateProfessor\n",
            "http://oeg.fi.upm.es/def/people#hasColleague http://www.w3.org/2000/01/rdf-schema#label hasColleague\n",
            "http://oeg.fi.upm.es/resource/person/Oscar http://oeg.fi.upm.es/def/people#hasName Óscar Corcho García\n",
            "http://oeg.fi.upm.es/def/people#hasName http://www.w3.org/2000/01/rdf-schema#label hasName\n",
            "http://oeg.fi.upm.es/def/people#AssociateProfessor http://www.w3.org/2000/01/rdf-schema#subClassOf http://oeg.fi.upm.es/def/people#Professor\n",
            "http://oeg.fi.upm.es/def/people#FullProfessor http://www.w3.org/1999/02/22-rdf-syntax-ns#type http://www.w3.org/2000/01/rdf-schema#Class\n",
            "http://oeg.fi.upm.es/def/people#FullProfessor http://www.w3.org/2000/01/rdf-schema#label FullProfessor\n",
            "http://oeg.fi.upm.es/resource/person/Asun http://oeg.fi.upm.es/def/people#hasHomePage http://www.oeg.fi.upm.es/\n",
            "http://oeg.fi.upm.es/def/people#Professor http://www.w3.org/2000/01/rdf-schema#subClassOf http://oeg.fi.upm.es/def/people#Person\n",
            "http://oeg.fi.upm.es/resource/person/Asun http://www.w3.org/2000/01/rdf-schema#label Asun\n",
            "http://oeg.fi.upm.es/def/people#hasHomePage http://www.w3.org/2000/01/rdf-schema#range http://www.w3.org/2000/01/rdf-schema#Literal\n",
            "http://oeg.fi.upm.es/resource/person/Oscar http://www.w3.org/1999/02/22-rdf-syntax-ns#type http://oeg.fi.upm.es/def/people#AssociateProfessor\n",
            "http://oeg.fi.upm.es/resource/person/Oscar http://www.w3.org/2000/01/rdf-schema#label Oscar\n",
            "http://oeg.fi.upm.es/def/people#InterimAssociateProfessor http://www.w3.org/1999/02/22-rdf-syntax-ns#type http://www.w3.org/2000/01/rdf-schema#Class\n",
            "http://oeg.fi.upm.es/def/people#InterimAssociateProfessor http://www.w3.org/2000/01/rdf-schema#subClassOf http://oeg.fi.upm.es/def/people#AssociateProfessor\n",
            "http://oeg.fi.upm.es/resource/person/Oscar http://oeg.fi.upm.es/def/people#hasColleague http://oeg.fi.upm.es/resource/person/Asun\n",
            "http://oeg.fi.upm.es/resource/person/Asun http://oeg.fi.upm.es/def/people#hasColleague http://oeg.fi.upm.es/resource/person/Raul\n",
            "http://oeg.fi.upm.es/def/people#AssociateProfessor http://www.w3.org/1999/02/22-rdf-syntax-ns#type http://www.w3.org/2000/01/rdf-schema#Class\n",
            "http://oeg.fi.upm.es/def/people#FullProfessor http://www.w3.org/2000/01/rdf-schema#subClassOf http://oeg.fi.upm.es/def/people#Professor\n",
            "http://oeg.fi.upm.es/def/people#hasName http://www.w3.org/2000/01/rdf-schema#range http://www.w3.org/2000/01/rdf-schema#Literal\n",
            "http://oeg.fi.upm.es/def/people#Person http://www.w3.org/2000/01/rdf-schema#label Person\n",
            "http://oeg.fi.upm.es/def/people#hasHomePage http://www.w3.org/2000/01/rdf-schema#label hasHomePage\n",
            "http://oeg.fi.upm.es/def/people#hasColleague http://www.w3.org/2000/01/rdf-schema#domain http://oeg.fi.upm.es/def/people#Person\n",
            "http://oeg.fi.upm.es/def/people#hasColleague http://www.w3.org/2000/01/rdf-schema#range http://oeg.fi.upm.es/def/people#Person\n",
            "http://oeg.fi.upm.es/resource/person/Asun http://www.w3.org/1999/02/22-rdf-syntax-ns#type http://oeg.fi.upm.es/def/people#FullProfessor\n",
            "http://oeg.fi.upm.es/def/people#Professor http://www.w3.org/2000/01/rdf-schema#label Professor\n",
            "http://oeg.fi.upm.es/def/people#hasName http://www.w3.org/2000/01/rdf-schema#domain http://oeg.fi.upm.es/def/people#Person\n",
            "http://oeg.fi.upm.es/resource/person/Raul http://www.w3.org/2000/01/rdf-schema#label Raul\n",
            "http://oeg.fi.upm.es/def/people#InterimAssociateProfessor http://www.w3.org/2000/01/rdf-schema#label InterimAssociateProfessor\n",
            "http://oeg.fi.upm.es/def/people#person http://www.w3.org/1999/02/22-rdf-syntax-ns#type http://www.w3.org/2000/01/rdf-schema#Class\n",
            "http://oeg.fi.upm.es/def/people#hasHomePage http://www.w3.org/2000/01/rdf-schema#domain http://oeg.fi.upm.es/def/people#FullProfessor\n"
          ]
        }
      ],
      "source": [
        "# Instancia\n",
        "\n",
        "g.add((PERSON.Oscar, RDF.type, ONTOLOGY.AssociateProfessor))\n",
        "g.add((PERSON.Asun, RDF.type, ONTOLOGY.FullProfessor))\n",
        "g.add((PERSON.Raul, RDF.type, ONTOLOGY.InterimAssociateProfessor))\n",
        "\n",
        "g.add((PERSON.Oscar, RDFS.label, Literal(\"Oscar\", datatype=XSD.string)))\n",
        "g.add((PERSON.Asun, RDFS.label, Literal(\"Asun\", datatype=XSD.string)))\n",
        "g.add((PERSON.Raul, RDFS.label, Literal(\"Raul\", datatype=XSD.string)))\n",
        "\n",
        "fullName = Literal(\"Óscar Corcho García\", datatype=XSD.string)\n",
        "homepage = Literal(\"http://www.oeg.fi.upm.es/\", datatype=XSD.string)\n",
        "\n",
        "g.add((PERSON.Oscar, ONTOLOGY.hasName, fullName))\n",
        "g.add((PERSON.Oscar, ONTOLOGY.hasColleague, PERSON.Asun))\n",
        "g.add((PERSON.Asun, ONTOLOGY.hasColleague, PERSON.Raul))\n",
        "g.add((PERSON.Asun, ONTOLOGY.hasHomePage, homepage))\n",
        "\n",
        "# Visualize the results\n",
        "for s, p, o in g:\n",
        "  print(s,p,o)"
      ]
    },
    {
      "cell_type": "code",
      "execution_count": 10,
      "metadata": {
        "id": "-3q4Wv2EfYew"
      },
      "outputs": [
        {
          "name": "stdout",
          "output_type": "stream",
          "text": [
            "TASK 6.3 OK\n"
          ]
        }
      ],
      "source": [
        "r.validate_task_06_03(g)"
      ]
    },
    {
      "cell_type": "markdown",
      "metadata": {
        "id": "tD383J__eHfV"
      },
      "source": [
        "**TASK 6.4: Add to the individual person:Oscar the email address, given and family names. Use the properties already included in example 4 to describe Jane and John (https://raw.githubusercontent.com/FacultadInformatica-LinkedData/Curso2025-2026/master/Assignment4/course_materials/rdf/example4.rdf). Do not import the namespaces, add them manually**\n"
      ]
    },
    {
      "cell_type": "code",
      "execution_count": 11,
      "metadata": {
        "id": "hWmwlAfBcgN-"
      },
      "outputs": [
        {
          "name": "stdout",
          "output_type": "stream",
          "text": [
            "http://oeg.fi.upm.es/def/people#hasColleague http://www.w3.org/1999/02/22-rdf-syntax-ns#type http://www.w3.org/1999/02/22-rdf-syntax-ns#Property\n",
            "http://oeg.fi.upm.es/def/people#hasName http://www.w3.org/1999/02/22-rdf-syntax-ns#type http://www.w3.org/1999/02/22-rdf-syntax-ns#Property\n",
            "http://oeg.fi.upm.es/def/people#hasHomePage http://www.w3.org/1999/02/22-rdf-syntax-ns#type http://www.w3.org/1999/02/22-rdf-syntax-ns#Property\n",
            "http://oeg.fi.upm.es/resource/person/Oscar http://xmlns.com/foaf/0.1/email oscar.corcho@upm.es\n",
            "http://oeg.fi.upm.es/def/people#Professor http://www.w3.org/1999/02/22-rdf-syntax-ns#type http://www.w3.org/2000/01/rdf-schema#Class\n",
            "http://oeg.fi.upm.es/def/people#AssociateProfessor http://www.w3.org/2000/01/rdf-schema#label AssociateProfessor\n",
            "http://oeg.fi.upm.es/resource/person/Raul http://www.w3.org/1999/02/22-rdf-syntax-ns#type http://oeg.fi.upm.es/def/people#InterimAssociateProfessor\n",
            "http://oeg.fi.upm.es/resource/person/Oscar http://www.w3.org/2001/vcard-rdf/3.0/FN Óscar Corcho García\n",
            "http://oeg.fi.upm.es/def/people#hasColleague http://www.w3.org/2000/01/rdf-schema#label hasColleague\n",
            "http://oeg.fi.upm.es/resource/person/Oscar http://oeg.fi.upm.es/def/people#hasName Óscar Corcho García\n",
            "http://oeg.fi.upm.es/def/people#hasName http://www.w3.org/2000/01/rdf-schema#label hasName\n",
            "http://oeg.fi.upm.es/def/people#AssociateProfessor http://www.w3.org/2000/01/rdf-schema#subClassOf http://oeg.fi.upm.es/def/people#Professor\n",
            "http://oeg.fi.upm.es/def/people#FullProfessor http://www.w3.org/1999/02/22-rdf-syntax-ns#type http://www.w3.org/2000/01/rdf-schema#Class\n",
            "http://oeg.fi.upm.es/def/people#FullProfessor http://www.w3.org/2000/01/rdf-schema#label FullProfessor\n",
            "http://oeg.fi.upm.es/resource/person/Asun http://oeg.fi.upm.es/def/people#hasHomePage http://www.oeg.fi.upm.es/\n",
            "http://oeg.fi.upm.es/resource/person/Oscar http://www.w3.org/2001/vcard-rdf/3.0/Given Óscar\n",
            "http://oeg.fi.upm.es/resource/person/Oscar http://www.w3.org/2001/vcard-rdf/3.0/Family Corcho García\n",
            "http://oeg.fi.upm.es/def/people#Professor http://www.w3.org/2000/01/rdf-schema#subClassOf http://oeg.fi.upm.es/def/people#Person\n",
            "http://oeg.fi.upm.es/resource/person/Asun http://www.w3.org/2000/01/rdf-schema#label Asun\n",
            "http://oeg.fi.upm.es/def/people#hasHomePage http://www.w3.org/2000/01/rdf-schema#range http://www.w3.org/2000/01/rdf-schema#Literal\n",
            "http://oeg.fi.upm.es/resource/person/Oscar http://www.w3.org/1999/02/22-rdf-syntax-ns#type http://oeg.fi.upm.es/def/people#AssociateProfessor\n",
            "http://oeg.fi.upm.es/resource/person/Oscar http://www.w3.org/2000/01/rdf-schema#label Oscar\n",
            "http://oeg.fi.upm.es/def/people#InterimAssociateProfessor http://www.w3.org/1999/02/22-rdf-syntax-ns#type http://www.w3.org/2000/01/rdf-schema#Class\n",
            "http://oeg.fi.upm.es/def/people#InterimAssociateProfessor http://www.w3.org/2000/01/rdf-schema#subClassOf http://oeg.fi.upm.es/def/people#AssociateProfessor\n",
            "http://oeg.fi.upm.es/resource/person/Oscar http://oeg.fi.upm.es/def/people#hasColleague http://oeg.fi.upm.es/resource/person/Asun\n",
            "http://oeg.fi.upm.es/resource/person/Asun http://oeg.fi.upm.es/def/people#hasColleague http://oeg.fi.upm.es/resource/person/Raul\n",
            "http://oeg.fi.upm.es/def/people#AssociateProfessor http://www.w3.org/1999/02/22-rdf-syntax-ns#type http://www.w3.org/2000/01/rdf-schema#Class\n",
            "http://oeg.fi.upm.es/def/people#FullProfessor http://www.w3.org/2000/01/rdf-schema#subClassOf http://oeg.fi.upm.es/def/people#Professor\n",
            "http://oeg.fi.upm.es/def/people#hasName http://www.w3.org/2000/01/rdf-schema#range http://www.w3.org/2000/01/rdf-schema#Literal\n",
            "http://oeg.fi.upm.es/def/people#Person http://www.w3.org/2000/01/rdf-schema#label Person\n",
            "http://oeg.fi.upm.es/def/people#hasHomePage http://www.w3.org/2000/01/rdf-schema#label hasHomePage\n",
            "http://oeg.fi.upm.es/def/people#hasColleague http://www.w3.org/2000/01/rdf-schema#domain http://oeg.fi.upm.es/def/people#Person\n",
            "http://oeg.fi.upm.es/def/people#hasColleague http://www.w3.org/2000/01/rdf-schema#range http://oeg.fi.upm.es/def/people#Person\n",
            "http://oeg.fi.upm.es/resource/person/Asun http://www.w3.org/1999/02/22-rdf-syntax-ns#type http://oeg.fi.upm.es/def/people#FullProfessor\n",
            "http://oeg.fi.upm.es/def/people#Professor http://www.w3.org/2000/01/rdf-schema#label Professor\n",
            "http://oeg.fi.upm.es/def/people#hasName http://www.w3.org/2000/01/rdf-schema#domain http://oeg.fi.upm.es/def/people#Person\n",
            "http://oeg.fi.upm.es/resource/person/Raul http://www.w3.org/2000/01/rdf-schema#label Raul\n",
            "http://oeg.fi.upm.es/def/people#InterimAssociateProfessor http://www.w3.org/2000/01/rdf-schema#label InterimAssociateProfessor\n",
            "http://oeg.fi.upm.es/def/people#person http://www.w3.org/1999/02/22-rdf-syntax-ns#type http://www.w3.org/2000/01/rdf-schema#Class\n",
            "http://oeg.fi.upm.es/def/people#hasHomePage http://www.w3.org/2000/01/rdf-schema#domain http://oeg.fi.upm.es/def/people#FullProfessor\n"
          ]
        }
      ],
      "source": [
        "VCARD = Namespace(\"http://www.w3.org/2001/vcard-rdf/3.0/\")\n",
        "FOAF = Namespace(\"http://xmlns.com/foaf/0.1/\")\n",
        "g.bind('vcard', VCARD)\n",
        "g.bind('foaf', FOAF)\n",
        "\n",
        "g.add((PERSON.Oscar, VCARD.Given, Literal(\"Óscar\", datatype=XSD.string)))\n",
        "g.add((PERSON.Oscar, VCARD.Family, Literal(\"Corcho García\", datatype=XSD.string)))\n",
        "g.add((PERSON.Oscar, VCARD.FN, Literal(\"Óscar Corcho García\", datatype=XSD.string)))\n",
        "g.add((PERSON.Oscar, FOAF.email, Literal(\"oscar.corcho@upm.es\", datatype=XSD.string)))\n",
        "\n",
        "\n",
        "# Visualize the results\n",
        "for s, p, o in g:\n",
        "  print(s,p,o)"
      ]
    },
    {
      "cell_type": "code",
      "execution_count": 12,
      "metadata": {
        "id": "Y1NiIQMyfgyF"
      },
      "outputs": [
        {
          "name": "stdout",
          "output_type": "stream",
          "text": [
            "TASK 6.4 OK\n"
          ]
        }
      ],
      "source": [
        "# Validation. Do not remove\n",
        "r.validate_task_06_04(g)\n",
        "r.save_report(\"_Task_06\")"
      ]
    }
  ],
  "metadata": {
    "colab": {
      "provenance": []
    },
    "kernelspec": {
      "display_name": ".venv",
      "language": "python",
      "name": "python3"
    },
    "language_info": {
      "codemirror_mode": {
        "name": "ipython",
        "version": 3
      },
      "file_extension": ".py",
      "mimetype": "text/x-python",
      "name": "python",
      "nbconvert_exporter": "python",
      "pygments_lexer": "ipython3",
      "version": "3.13.7"
    }
  },
  "nbformat": 4,
  "nbformat_minor": 0
}
