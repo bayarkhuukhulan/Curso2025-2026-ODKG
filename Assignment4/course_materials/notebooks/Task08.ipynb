{
  "cells": [
    {
      "cell_type": "markdown",
      "metadata": {
        "id": "rb2ewz-dC6GC"
      },
      "source": [
        "**Task 08: Completing missing data**"
      ]
    },
    {
      "cell_type": "code",
      "execution_count": 1,
      "metadata": {
        "id": "0sQG2Y915Isp",
        "outputId": "a4e29eaf-0e32-4956-c4ae-aa004cb76f35"
      },
      "outputs": [],
      "source": [
        "# !pip install rdflib\n",
        "github_storage = \"https://raw.githubusercontent.com/FacultadInformatica-LinkedData/Curso2021-2022/master/Assignment4/course_materials\""
      ]
    },
    {
      "cell_type": "code",
      "execution_count": 2,
      "metadata": {
        "id": "Jb4QeLue5NLr",
        "outputId": "8ae403eb-cfec-41e8-9002-333edf47b0f7"
      },
      "outputs": [
        {
          "data": {
            "text/plain": [
              "<Graph identifier=Ne97e12d4a69b44968bf6b0ff7c9dbe36 (<class 'rdflib.graph.Graph'>)>"
            ]
          },
          "execution_count": 2,
          "metadata": {},
          "output_type": "execute_result"
        }
      ],
      "source": [
        "from rdflib import Graph, Namespace, Literal, URIRef\n",
        "g1 = Graph()\n",
        "g2 = Graph()\n",
        "g1.parse(github_storage+\"/rdf/data01.rdf\", format=\"xml\")\n",
        "g2.parse(github_storage+\"/rdf/data02.rdf\", format=\"xml\")"
      ]
    },
    {
      "cell_type": "markdown",
      "metadata": {
        "id": "kxxKghwBElOm"
      },
      "source": [
        "Tarea: lista todos los elementos de la clase Person en el primer grafo (data01.rdf) y completa los campos (given name, family name y email) que puedan faltar con los datos del segundo grafo (data02.rdf). Puedes usar consultas SPARQL o iterar el grafo, o ambas cosas."
      ]
    },
    {
      "cell_type": "markdown",
      "metadata": {},
      "source": [
        "== Aufgabe: Liste alle Elemente der Klasse Person im ersten Graphen (data01.rdf) auf und fülle die Felder (Vorname, Nachname und E-Mail-Adresse), die möglicherweise fehlen, mit den Daten aus dem zweiten Graphen (data02.rdf) aus. Du kannst SPARQL-Abfragen verwenden oder den Graphen durchlaufen, oder beides."
      ]
    },
    {
      "cell_type": "code",
      "execution_count": 12,
      "metadata": {},
      "outputs": [
        {
          "name": "stdout",
          "output_type": "stream",
          "text": [
            "http://data.org#SaraJones http://www.w3.org/1999/02/22-rdf-syntax-ns#type http://data.org#Person\n",
            "http://www.w3.org/2001/vcard-rdf/3.0#Family http://www.w3.org/1999/02/22-rdf-syntax-ns#type http://www.w3.org/2000/01/rdf-schema#Property\n",
            "http://data.org#HarryPotter http://www.w3.org/2001/vcard-rdf/3.0#Family Potter\n",
            "http://data.org#SaraJones http://www.w3.org/2001/vcard-rdf/3.0#Family Jones\n",
            "http://data.org#JohnDoe http://www.w3.org/2001/vcard-rdf/3.0#Family Doe\n",
            "http://data.org#JohnSmith http://www.w3.org/2001/vcard-rdf/3.0#EMAIL j.smith@data.org\n",
            "http://data.org#JohnDoe http://www.w3.org/1999/02/22-rdf-syntax-ns#type http://data.org#Person\n",
            "http://data.org#Person http://www.w3.org/1999/02/22-rdf-syntax-ns#type http://www.w3.org/2000/01/rdf-schema#Class\n",
            "http://data.org#SaraJones http://www.w3.org/2001/vcard-rdf/3.0#Given Sara\n",
            "http://data.org#HarryPotter http://www.w3.org/2001/vcard-rdf/3.0#Given Harry\n",
            "http://data.org#JohnDoe http://www.w3.org/2001/vcard-rdf/3.0#EMAIL doe@data.org\n",
            "http://www.w3.org/2001/vcard-rdf/3.0#Given http://www.w3.org/2000/01/rdf-schema#range http://www.w3.org/2001/XMLSchema#string\n",
            "http://data.org#JohnSmith http://www.w3.org/1999/02/22-rdf-syntax-ns#type http://data.org#Person\n",
            "http://www.w3.org/2001/vcard-rdf/3.0#EMAIL http://www.w3.org/2000/01/rdf-schema#range http://www.w3.org/2001/XMLSchema#string\n",
            "http://data.org#HarryPotter http://www.w3.org/1999/02/22-rdf-syntax-ns#type http://data.org#Person\n",
            "http://www.w3.org/2001/vcard-rdf/3.0#EMAIL http://www.w3.org/1999/02/22-rdf-syntax-ns#type http://www.w3.org/2000/01/rdf-schema#Datatype\n",
            "http://www.w3.org/2001/vcard-rdf/3.0#Family http://www.w3.org/2000/01/rdf-schema#range http://www.w3.org/2001/XMLSchema#string\n",
            "http://data.org#HarryPotter http://www.w3.org/2001/vcard-rdf/3.0#EMAIL hpotter@hogwarts.org\n",
            "http://www.w3.org/2001/vcard-rdf/3.0#Given http://www.w3.org/1999/02/22-rdf-syntax-ns#type http://www.w3.org/2000/01/rdf-schema#Datatype\n",
            "http://data.org#SaraJones http://www.w3.org/2001/vcard-rdf/3.0#EMAIL sara.jones@data.org\n",
            "http://data.org#JohnSmith http://www.w3.org/2001/vcard-rdf/3.0#Given John\n",
            "http://data.org#JohnSmith http://www.w3.org/2001/vcard-rdf/3.0#Family Smith\n",
            "http://data.org#JohnDoe http://www.w3.org/2001/vcard-rdf/3.0#Given John\n"
          ]
        }
      ],
      "source": [
        "from rdflib.namespace import RDF\n",
        "\n",
        "VCARD = Namespace(\"http://www.w3.org/2001/vcard-rdf/3.0#\")\n",
        "NS = Namespace(\"http://data.org#\")\n",
        "\n",
        "for s in g1.subjects(RDF.type, NS.Person):\n",
        "    if (s, None, None) in g2:\n",
        "        for p in [VCARD.Given, VCARD.Family, VCARD.EMAIL]:\n",
        "            if not (s, p, None) in g1:\n",
        "                if g2.value(s, p):\n",
        "                    g1.add((s, p, g2.value(s, p)))\n",
        "\n",
        "# visualize the updated graph\n",
        "for s, p, o in g1:\n",
        "    print(s, p, o)"
      ]
    }
  ],
  "metadata": {
    "colab": {
      "provenance": []
    },
    "kernelspec": {
      "display_name": ".venv",
      "language": "python",
      "name": "python3"
    },
    "language_info": {
      "codemirror_mode": {
        "name": "ipython",
        "version": 3
      },
      "file_extension": ".py",
      "mimetype": "text/x-python",
      "name": "python",
      "nbconvert_exporter": "python",
      "pygments_lexer": "ipython3",
      "version": "3.13.7"
    }
  },
  "nbformat": 4,
  "nbformat_minor": 0
}
